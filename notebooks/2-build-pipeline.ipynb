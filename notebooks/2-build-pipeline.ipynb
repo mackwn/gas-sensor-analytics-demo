{
 "cells": [
  {
   "cell_type": "code",
   "execution_count": 152,
   "metadata": {},
   "outputs": [],
   "source": [
    "import pandas as pd\n",
    "import numpy as np\n",
    "import matplotlib.pyplot as plt\n",
    "import seaborn as sns\n",
    "import plotly.express as px\n",
    "import plotly.graph_objects as go\n",
    "import os\n",
    "import pickle\n",
    "from sklearn.linear_model import LinearRegression\n",
    "from sklearn.preprocessing import OneHotEncoder\n",
    "from sklearn.svm import SVR\n",
    "from sklearn.metrics import r2_score\n",
    "from sklearn.inspection import permutation_importance\n",
    "from scipy import stats\n",
    "import statsmodels.api as sm\n",
    "from sklearn.preprocessing import PowerTransformer\n",
    "from sklearn.impute import KNNImputer\n",
    "from sklearn.compose import ColumnTransformer\n",
    "from sklearn.pipeline import Pipeline\n",
    "from sklearn.base import BaseEstimator, TransformerMixin"
   ]
  },
  {
   "cell_type": "code",
   "execution_count": 153,
   "metadata": {},
   "outputs": [
    {
     "name": "stdout",
     "output_type": "stream",
     "text": [
      "/home/fitzaudoen/apps/gas-sensor-analytics-demo\n"
     ]
    }
   ],
   "source": [
    "if os.path.split(os.getcwd())[-1] == 'notebooks': os.chdir(os.path.split(os.getcwd())[-2])\n",
    "print(os.getcwd())"
   ]
  },
  {
   "cell_type": "code",
   "execution_count": 154,
   "metadata": {},
   "outputs": [],
   "source": [
    "sns.set()\n",
    "sns.set_context('talk')"
   ]
  },
  {
   "cell_type": "markdown",
   "metadata": {},
   "source": [
    "This notebook shows the steps to come up with the preprocessing pipeline implemented in src.features.build_features. Two preprocessing pipelines are needed:\n",
    "<ol>\n",
    "    <li>for classification, using only the sensor values and sample no to predict the gas id</li>\n",
    "    <li>for regression using the sensor values and the gas id to predict the concentration </li>\n",
    "</ol>"
   ]
  },
  {
   "cell_type": "markdown",
   "metadata": {},
   "source": [
    "## Set up data"
   ]
  },
  {
   "cell_type": "code",
   "execution_count": 155,
   "metadata": {},
   "outputs": [],
   "source": [
    "df = pd.read_pickle('data/processed/train_data.pkl')"
   ]
  },
  {
   "cell_type": "code",
   "execution_count": 156,
   "metadata": {},
   "outputs": [],
   "source": [
    "data = df.values\n",
    "batch_id = data[:,0] # unused\n",
    "y = data[:,2] \n",
    "cat_cols = df.columns.values[1:2]\n",
    "num_cols = df.columns.values[3:]\n",
    "X = np.concatenate((data[:,3:],data[:,1:2]), axis=1)"
   ]
  },
  {
   "cell_type": "markdown",
   "metadata": {},
   "source": [
    "## First transformer to scale numerical and encode categorical"
   ]
  },
  {
   "cell_type": "code",
   "execution_count": 157,
   "metadata": {},
   "outputs": [],
   "source": [
    "cat_idx = [X.shape[1]-1]\n",
    "num_idx = list(range(0,X.shape[1]-1))\n",
    "t1 = [('cat', OneHotEncoder(), cat_idx), ('num', PowerTransformer(), num_idx)]"
   ]
  },
  {
   "cell_type": "code",
   "execution_count": 158,
   "metadata": {},
   "outputs": [],
   "source": [
    "transformer1 = ColumnTransformer(t1)"
   ]
  },
  {
   "cell_type": "code",
   "execution_count": 159,
   "metadata": {},
   "outputs": [],
   "source": [
    "X_trans = transformer1.fit_transform(X)"
   ]
  },
  {
   "cell_type": "markdown",
   "metadata": {},
   "source": [
    "## Second transformer to filter out high z-score's from numerical Xs "
   ]
  },
  {
   "cell_type": "code",
   "execution_count": 164,
   "metadata": {},
   "outputs": [],
   "source": [
    "# Custom operator for filtering scaled data by Z-value (same as just filtering the value)\n",
    "class filterUnusualX(BaseEstimator, TransformerMixin):\n",
    "    def __init__(self, z_score_max=4):\n",
    "        self.z_score_max = z_score_max\n",
    "    def fit(self, X, y = None):\n",
    "        return self\n",
    "    def transform(self, X, y=None):\n",
    "        X_ = np.where(abs(X) > self.z_score_max, np.nan, X)\n",
    "        return X_"
   ]
  },
  {
   "cell_type": "code",
   "execution_count": 165,
   "metadata": {},
   "outputs": [],
   "source": [
    "filterx = filterUnusualX(4)"
   ]
  },
  {
   "cell_type": "code",
   "execution_count": 166,
   "metadata": {},
   "outputs": [
    {
     "data": {
      "text/plain": [
       "array([[ 0.        ,  0.        ,  0.        , ..., -0.77980096,\n",
       "        -1.54154624, -1.06828845],\n",
       "       [ 1.        ,  0.        ,  0.        , ..., -0.85586536,\n",
       "        -1.85707906, -1.24461614],\n",
       "       [ 0.        ,  0.        ,  0.        , ..., -0.32098801,\n",
       "        -0.19034421,  0.2637914 ],\n",
       "       ...,\n",
       "       [ 0.        ,  1.        ,  0.        , ...,  0.48636987,\n",
       "         0.12639824,  0.83204111],\n",
       "       [ 0.        ,  0.        ,  0.        , ..., -0.52678051,\n",
       "        -0.77806699, -0.57991495],\n",
       "       [ 0.        ,  0.        ,  0.        , ..., -0.47050422,\n",
       "         0.39029973, -0.22833753]])"
      ]
     },
     "execution_count": 166,
     "metadata": {},
     "output_type": "execute_result"
    }
   ],
   "source": [
    "filterx.transform(X_trans[:,0:10])"
   ]
  },
  {
   "cell_type": "code",
   "execution_count": 167,
   "metadata": {},
   "outputs": [],
   "source": [
    "transformer2 = ColumnTransformer([('filter', filterUnusualX(), list(range(0,129)))], remainder='passthrough')"
   ]
  },
  {
   "cell_type": "markdown",
   "metadata": {},
   "source": [
    "## Preprocess pipeline"
   ]
  },
  {
   "cell_type": "code",
   "execution_count": 171,
   "metadata": {},
   "outputs": [],
   "source": [
    "# Create pipeline, third step is KNN imputer to impute the outliers that were removed\n",
    "\n",
    "# Classifcation pipeline that only has numeric columns\n",
    "pipeline_classifcation = Pipeline(steps=[\n",
    "    ('scale', PowerTransformer()),\n",
    "    ('filter', filterUnusualX()),\n",
    "    ('impute', KNNImputer())\n",
    "])\n",
    "\n",
    "\n",
    "# Regression pipeline that uses transformers for categorical and and numeric\n",
    "pipeline_regression = Pipeline(steps=[\n",
    "    ('scale_encode', transformer1),\n",
    "    ('filter', transformer2),\n",
    "    ('impute', KNNImputer())\n",
    "])\n"
   ]
  },
  {
   "cell_type": "code",
   "execution_count": 169,
   "metadata": {},
   "outputs": [
    {
     "data": {
      "text/plain": [
       "(8346, 130)"
      ]
     },
     "execution_count": 169,
     "metadata": {},
     "output_type": "execute_result"
    }
   ],
   "source": [
    "X.shape"
   ]
  },
  {
   "cell_type": "code",
   "execution_count": 170,
   "metadata": {},
   "outputs": [
    {
     "data": {
      "text/plain": [
       "array([[ 0.        ,  0.        ,  0.        , ...,  1.69505184,\n",
       "         1.7122244 ,  1.46249822],\n",
       "       [ 1.        ,  0.        ,  0.        , ...,  2.1725067 ,\n",
       "         2.15070234,  1.63184529],\n",
       "       [ 0.        ,  0.        ,  0.        , ...,  1.44750144,\n",
       "         1.44081016,  1.56782886],\n",
       "       ...,\n",
       "       [ 0.        ,  1.        ,  0.        , ..., -0.28644779,\n",
       "        -0.22503796, -0.55015533],\n",
       "       [ 0.        ,  0.        ,  0.        , ..., -0.98956103,\n",
       "        -0.98120487, -0.37536644],\n",
       "       [ 0.        ,  0.        ,  0.        , ...,  0.2268256 ,\n",
       "         0.23004934,  0.10459919]])"
      ]
     },
     "execution_count": 170,
     "metadata": {},
     "output_type": "execute_result"
    }
   ],
   "source": [
    "pipeline.fit_transform(X)"
   ]
  },
  {
   "cell_type": "code",
   "execution_count": null,
   "metadata": {},
   "outputs": [],
   "source": []
  }
 ],
 "metadata": {
  "kernelspec": {
   "display_name": "Python 3",
   "language": "python",
   "name": "python3"
  },
  "language_info": {
   "codemirror_mode": {
    "name": "ipython",
    "version": 3
   },
   "file_extension": ".py",
   "mimetype": "text/x-python",
   "name": "python",
   "nbconvert_exporter": "python",
   "pygments_lexer": "ipython3",
   "version": "3.8.5"
  }
 },
 "nbformat": 4,
 "nbformat_minor": 4
}
