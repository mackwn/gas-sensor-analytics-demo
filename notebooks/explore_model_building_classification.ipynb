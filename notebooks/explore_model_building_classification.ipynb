{
 "cells": [
  {
   "cell_type": "code",
   "execution_count": 132,
   "metadata": {},
   "outputs": [],
   "source": [
    "import pandas as pd\n",
    "import numpy as np\n",
    "import matplotlib.pyplot as plt\n",
    "import seaborn as sns\n",
    "import plotly.express as px\n",
    "import os\n",
    "import pickle\n",
    "from sklearn.linear_model import LogisticRegression\n",
    "from sklearn.svm import SVC"
   ]
  },
  {
   "cell_type": "code",
   "execution_count": 20,
   "metadata": {},
   "outputs": [
    {
     "name": "stdout",
     "output_type": "stream",
     "text": [
      "/home/fitzaudoen/apps/gas-sensor-analytics-demo\n"
     ]
    }
   ],
   "source": [
    "if os.path.split(os.getcwd())[-1] == 'notebooks': os.chdir(os.path.split(os.getcwd())[-2])\n",
    "print(os.getcwd())"
   ]
  },
  {
   "cell_type": "markdown",
   "metadata": {},
   "source": [
    "# Prepare data"
   ]
  },
  {
   "cell_type": "code",
   "execution_count": 21,
   "metadata": {},
   "outputs": [],
   "source": [
    "df = pd.read_pickle('data/processed/train_data.pkl')"
   ]
  },
  {
   "cell_type": "code",
   "execution_count": 22,
   "metadata": {},
   "outputs": [],
   "source": [
    "data = df.values\n",
    "batch_id = data[:,0]\n",
    "y = data[:,1]\n",
    "X = data[:,3:]\n",
    "cols = df.columns.values"
   ]
  },
  {
   "cell_type": "code",
   "execution_count": 89,
   "metadata": {},
   "outputs": [
    {
     "data": {
      "text/plain": [
       "array([[-0.31454734, -0.71204585, -0.36103879, ...,  0.56760877,\n",
       "         0.50370627,  0.05748028],\n",
       "       [-0.84195435, -0.96103458, -0.74933229, ...,  1.30657738,\n",
       "         1.2601785 ,  1.03639628],\n",
       "       [-0.76244708, -0.68376627, -0.79105263, ..., -1.43089132,\n",
       "        -1.24712748, -0.43307352],\n",
       "       ...,\n",
       "       [ 0.80870382,  1.44495585,  0.86872896, ..., -1.16243434,\n",
       "        -1.11797541, -1.1791114 ],\n",
       "       [-0.55955163, -0.53890801, -0.54306439, ..., -0.70337069,\n",
       "        -0.81985541, -0.86568291],\n",
       "       [-0.84694487, -0.91989219, -0.85048213, ...,  0.8168824 ,\n",
       "         0.82861551,  0.66120501]])"
      ]
     },
     "execution_count": 89,
     "metadata": {},
     "output_type": "execute_result"
    }
   ],
   "source": [
    "X"
   ]
  },
  {
   "cell_type": "code",
   "execution_count": 193,
   "metadata": {},
   "outputs": [],
   "source": [
    "scaler = pickle.load(\n",
    "    open('models/preprocessing/scaler.pkl','rb')\n",
    ")\n",
    "pca = pickle.load(\n",
    "    open('models/preprocessing/pca.pkl','rb')\n",
    ")"
   ]
  },
  {
   "cell_type": "code",
   "execution_count": 194,
   "metadata": {},
   "outputs": [],
   "source": [
    "X = scaler.transform(X)\n",
    "X_pca = pca.transform(X)"
   ]
  },
  {
   "cell_type": "code",
   "execution_count": 195,
   "metadata": {},
   "outputs": [],
   "source": [
    "cv_df = pd.read_pickle('data/processed/cv_data.pkl')"
   ]
  },
  {
   "cell_type": "code",
   "execution_count": 197,
   "metadata": {},
   "outputs": [],
   "source": [
    "data_cv = cv_df.values\n",
    "batch_id_cv = data_cv[:,0]\n",
    "y_cv = data[:,1]\n",
    "X_cv = scaler.transform(data[:,3:])\n",
    "X_cv_pca = pca.transform(X_cv)\n",
    "#cols = df.columns.values"
   ]
  },
  {
   "cell_type": "markdown",
   "metadata": {},
   "source": [
    "# Models without Reduction"
   ]
  },
  {
   "cell_type": "markdown",
   "metadata": {},
   "source": [
    "## Logistic Regression"
   ]
  },
  {
   "cell_type": "code",
   "execution_count": 180,
   "metadata": {},
   "outputs": [
    {
     "name": "stdout",
     "output_type": "stream",
     "text": [
      "0.9947643979057592\n"
     ]
    }
   ],
   "source": [
    "clf = LogisticRegression(random_state=0, max_iter=1000).fit(X, y)\n",
    "print(clf.score(X,y))"
   ]
  },
  {
   "cell_type": "code",
   "execution_count": 140,
   "metadata": {},
   "outputs": [
    {
     "name": "stdout",
     "output_type": "stream",
     "text": [
      "0.9947643979057592\n"
     ]
    }
   ],
   "source": [
    "# Score of cross validation set\n",
    "print(clf.score(X_cv,y_cv))"
   ]
  },
  {
   "cell_type": "markdown",
   "metadata": {},
   "source": [
    "### Set regularization parameter"
   ]
  },
  {
   "cell_type": "code",
   "execution_count": 183,
   "metadata": {},
   "outputs": [
    {
     "data": {
      "text/plain": [
       "[<matplotlib.lines.Line2D at 0x7f7b28b9cf40>]"
      ]
     },
     "execution_count": 183,
     "metadata": {},
     "output_type": "execute_result"
    },
    {
     "data": {
      "image/png": "[encoded data removed]",
      "text/plain": [
       "<Figure size 432x288 with 1 Axes>"
      ]
     },
     "metadata": {
      "needs_background": "light"
     },
     "output_type": "display_data"
    }
   ],
   "source": [
    "C_array = list(range(1,500,50))\n",
    "score_array = []\n",
    "for C in C_array:\n",
    "    clf = LogisticRegression(random_state=0, max_iter=5000, C=C).fit(X, y)\n",
    "    score_array.append(clf.score(X,y))\n",
    "    \n",
    "plt.plot(C_array,score_array)\n",
    "    \n",
    "    \n",
    "    "
   ]
  },
  {
   "cell_type": "markdown",
   "metadata": {},
   "source": [
    "### Learning Curve"
   ]
  },
  {
   "cell_type": "code",
   "execution_count": 184,
   "metadata": {},
   "outputs": [
    {
     "data": {
      "text/plain": [
       "[<matplotlib.lines.Line2D at 0x7f7b28b8f580>]"
      ]
     },
     "execution_count": 184,
     "metadata": {},
     "output_type": "execute_result"
    },
    {
     "data": {
      "image/png": "[encoded data removed]",
      "text/plain": [
       "<Figure size 432x288 with 1 Axes>"
      ]
     },
     "metadata": {
      "needs_background": "light"
     },
     "output_type": "display_data"
    }
   ],
   "source": [
    "n_array = list(range(50,250,25)) + list(range(250,len(X),500))\n",
    "correct_array = []\n",
    "correct_array_cv = []\n",
    "for n in n_array:\n",
    "    clf = LogisticRegression(random_state=0, max_iter=5000, C=125).fit(X[0:n,:], y[0:n])\n",
    "    correct_array.append(clf.score(X[0:n,:],y[0:n]))\n",
    "    correct_array_cv.append(clf.score(X_cv,y_cv))\n",
    "\n",
    "plt.plot(n_array,correct_array)\n",
    "plt.plot(n_array,correct_array_cv)"
   ]
  },
  {
   "cell_type": "code",
   "execution_count": 192,
   "metadata": {},
   "outputs": [
    {
     "name": "stdout",
     "output_type": "stream",
     "text": [
      "11.6 s ± 174 ms per loop (mean ± std. dev. of 7 runs, 1 loop each)\n"
     ]
    }
   ],
   "source": [
    "clf =  LogisticRegression(random_state=0, max_iter=5000, C=125)\n",
    "%timeit clf.fit(X, y)"
   ]
  },
  {
   "cell_type": "markdown",
   "metadata": {},
   "source": [
    "## Support Vector Classification"
   ]
  },
  {
   "cell_type": "code",
   "execution_count": 175,
   "metadata": {},
   "outputs": [],
   "source": [
    "clf = SVC(C=500)"
   ]
  },
  {
   "cell_type": "code",
   "execution_count": 176,
   "metadata": {},
   "outputs": [
    {
     "data": {
      "text/plain": [
       "SVC(C=500)"
      ]
     },
     "execution_count": 176,
     "metadata": {},
     "output_type": "execute_result"
    }
   ],
   "source": [
    "clf.fit(X,y)"
   ]
  },
  {
   "cell_type": "code",
   "execution_count": 177,
   "metadata": {},
   "outputs": [
    {
     "data": {
      "text/plain": [
       "1.0"
      ]
     },
     "execution_count": 177,
     "metadata": {},
     "output_type": "execute_result"
    }
   ],
   "source": [
    "clf.score(X,y)"
   ]
  },
  {
   "cell_type": "code",
   "execution_count": 178,
   "metadata": {},
   "outputs": [
    {
     "data": {
      "text/plain": [
       "1.0"
      ]
     },
     "execution_count": 178,
     "metadata": {},
     "output_type": "execute_result"
    }
   ],
   "source": [
    "clf.score(X_cv,y_cv)"
   ]
  },
  {
   "cell_type": "code",
   "execution_count": 185,
   "metadata": {},
   "outputs": [
    {
     "data": {
      "text/plain": [
       "[<matplotlib.lines.Line2D at 0x7f7b28ae1670>]"
      ]
     },
     "execution_count": 185,
     "metadata": {},
     "output_type": "execute_result"
    },
    {
     "data": {
      "image/png": "[encoded data removed]",
      "text/plain": [
       "<Figure size 432x288 with 1 Axes>"
      ]
     },
     "metadata": {
      "needs_background": "light"
     },
     "output_type": "display_data"
    }
   ],
   "source": [
    "C_array = list(range(1,500,50))\n",
    "score_array = []\n",
    "for C in C_array:\n",
    "    clf = SVC(C=C)\n",
    "    clf = clf.fit(X, y)\n",
    "    score_array.append(clf.score(X,y))\n",
    "    \n",
    "plt.plot(C_array,score_array)"
   ]
  },
  {
   "cell_type": "code",
   "execution_count": 186,
   "metadata": {},
   "outputs": [
    {
     "data": {
      "text/plain": [
       "[<matplotlib.lines.Line2D at 0x7f7b28aba1f0>]"
      ]
     },
     "execution_count": 186,
     "metadata": {},
     "output_type": "execute_result"
    },
    {
     "data": {
      "image/png": "[encoded data removed]",
      "text/plain": [
       "<Figure size 432x288 with 1 Axes>"
      ]
     },
     "metadata": {
      "needs_background": "light"
     },
     "output_type": "display_data"
    }
   ],
   "source": [
    "n_array = list(range(50,250,25)) + list(range(250,len(X),500))\n",
    "correct_array = []\n",
    "correct_array_cv = []\n",
    "for n in n_array:\n",
    "    clf = SVC(C=C)\n",
    "    clf = clf.fit(X[0:n,:], y[0:n])\n",
    "    correct_array.append(clf.score(X[0:n,:],y[0:n]))\n",
    "    correct_array_cv.append(clf.score(X_cv,y_cv))\n",
    "\n",
    "plt.plot(n_array,correct_array)\n",
    "plt.plot(n_array,correct_array_cv)"
   ]
  },
  {
   "cell_type": "code",
   "execution_count": 187,
   "metadata": {},
   "outputs": [
    {
     "name": "stdout",
     "output_type": "stream",
     "text": [
      "584 ms ± 3.1 ms per loop (mean ± std. dev. of 7 runs, 1 loop each)\n"
     ]
    }
   ],
   "source": [
    "clf = SVC(C=400)\n",
    "%timeit clf.fit(X,y)"
   ]
  },
  {
   "cell_type": "markdown",
   "metadata": {},
   "source": [
    "### Random Forest Classification"
   ]
  },
  {
   "cell_type": "code",
   "execution_count": null,
   "metadata": {},
   "outputs": [],
   "source": []
  }
 ],
 "metadata": {
  "kernelspec": {
   "display_name": "Python 3",
   "language": "python",
   "name": "python3"
  },
  "language_info": {
   "codemirror_mode": {
    "name": "ipython",
    "version": 3
   },
   "file_extension": ".py",
   "mimetype": "text/x-python",
   "name": "python",
   "nbconvert_exporter": "python",
   "pygments_lexer": "ipython3",
   "version": "3.8.5"
  }
 },
 "nbformat": 4,
 "nbformat_minor": 4
}
