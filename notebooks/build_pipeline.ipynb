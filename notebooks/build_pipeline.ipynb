{
 "cells": [
  {
   "cell_type": "code",
   "execution_count": 67,
   "metadata": {},
   "outputs": [],
   "source": [
    "import pandas as pd\n",
    "import numpy as np\n",
    "import matplotlib.pyplot as plt\n",
    "import seaborn as sns\n",
    "import plotly.express as px\n",
    "import plotly.graph_objects as go\n",
    "import os\n",
    "import pickle\n",
    "from sklearn.linear_model import LinearRegression\n",
    "from sklearn.preprocessing import OneHotEncoder\n",
    "from sklearn.svm import SVR\n",
    "from sklearn.metrics import r2_score\n",
    "from sklearn.inspection import permutation_importance\n",
    "from scipy import stats\n",
    "import statsmodels.api as sm\n",
    "from sklearn.preprocessing import PowerTransformer\n",
    "from sklearn.impute import KNNImputer\n",
    "from sklearn.compose import ColumnTransformer\n",
    "from sklearn.pipeline import Pipeline\n",
    "from sklearn.base import BaseEstimator, TransformerMixin"
   ]
  },
  {
   "cell_type": "code",
   "execution_count": 3,
   "metadata": {},
   "outputs": [
    {
     "name": "stdout",
     "output_type": "stream",
     "text": [
      "/home/fitzaudoen/apps/gas-sensor-analytics-demo\n"
     ]
    }
   ],
   "source": [
    "if os.path.split(os.getcwd())[-1] == 'notebooks': os.chdir(os.path.split(os.getcwd())[-2])\n",
    "print(os.getcwd())"
   ]
  },
  {
   "cell_type": "code",
   "execution_count": 4,
   "metadata": {},
   "outputs": [],
   "source": [
    "sns.set()\n",
    "sns.set_context('talk')"
   ]
  },
  {
   "cell_type": "code",
   "execution_count": 5,
   "metadata": {},
   "outputs": [],
   "source": [
    "df = pd.read_pickle('data/processed/train_data.pkl')"
   ]
  },
  {
   "cell_type": "code",
   "execution_count": 31,
   "metadata": {},
   "outputs": [],
   "source": []
  },
  {
   "cell_type": "markdown",
   "metadata": {},
   "source": [
    "## First transformer to scale numerical and encode categorical"
   ]
  },
  {
   "cell_type": "code",
   "execution_count": 29,
   "metadata": {},
   "outputs": [],
   "source": [
    "transformer1 = ColumnTransformer(t1)"
   ]
  },
  {
   "cell_type": "code",
   "execution_count": 30,
   "metadata": {},
   "outputs": [
    {
     "data": {
      "text/plain": [
       "array([[ 0.        ,  0.        ,  0.        , ...,  1.69505184,\n",
       "         1.7122244 ,  1.46249822],\n",
       "       [ 1.        ,  0.        ,  0.        , ...,  2.1725067 ,\n",
       "         2.15070234,  1.63184529],\n",
       "       [ 0.        ,  0.        ,  0.        , ...,  1.44750144,\n",
       "         1.44081016,  1.56782886],\n",
       "       ...,\n",
       "       [ 0.        ,  1.        ,  0.        , ..., -0.28644779,\n",
       "        -0.22503796, -0.55015533],\n",
       "       [ 0.        ,  0.        ,  0.        , ..., -0.98956103,\n",
       "        -0.98120487, -0.37536644],\n",
       "       [ 0.        ,  0.        ,  0.        , ...,  0.2268256 ,\n",
       "         0.23004934,  0.10459919]])"
      ]
     },
     "execution_count": 30,
     "metadata": {},
     "output_type": "execute_result"
    }
   ],
   "source": [
    "transformer1.fit_transform(X)"
   ]
  },
  {
   "cell_type": "code",
   "execution_count": 48,
   "metadata": {},
   "outputs": [],
   "source": [
    "data = df.values\n",
    "batch_id = data[:,0] # unused\n",
    "y = data[:,2] \n",
    "cat_cols = df.columns.values[1:2]\n",
    "num_cols = df.columns.values[3:]\n",
    "X = np.concatenate((data[:,3:],data[:,1:2]), axis=1)"
   ]
  },
  {
   "cell_type": "code",
   "execution_count": null,
   "metadata": {},
   "outputs": [],
   "source": [
    "cat_idx = [X.shape[1]-1]\n",
    "num_idx = list(range(0,X.shape[1]-1))\n",
    "t1 = [('cat', OneHotEncoder(), cat_idx), ('num', PowerTransformer(), num_idx)]"
   ]
  },
  {
   "cell_type": "code",
   "execution_count": 63,
   "metadata": {},
   "outputs": [],
   "source": [
    "#t1 = [('num', PowerTransformer(), num_cols), ('cat', OneHotEncoder(), cat_cols)]\n",
    "#t11 = [('cat', OneHotEncoder(), cat_cols)]"
   ]
  },
  {
   "cell_type": "code",
   "execution_count": 64,
   "metadata": {},
   "outputs": [],
   "source": [
    "transformer1 = ColumnTransformer(t1)"
   ]
  },
  {
   "cell_type": "code",
   "execution_count": 72,
   "metadata": {},
   "outputs": [],
   "source": [
    "X = transformer1.fit_transform(df)"
   ]
  },
  {
   "cell_type": "markdown",
   "metadata": {},
   "source": [
    "## Second transformer to filter out high z-score's from numerical Xs "
   ]
  },
  {
   "cell_type": "code",
   "execution_count": 82,
   "metadata": {},
   "outputs": [],
   "source": [
    "class filterUnusualX(BaseEstimator, TransformerMixin):\n",
    "    def __init__(self, z_score_max=4):\n",
    "        self.z_score_max = z_score_max\n",
    "    def fit(self, X, y = None):\n",
    "        return self\n",
    "    def transform(self, X, y=None):\n",
    "        X_ = np.where(abs(X) > self.z_score_max, np.nan, X)\n",
    "        return X_"
   ]
  },
  {
   "cell_type": "code",
   "execution_count": 74,
   "metadata": {},
   "outputs": [],
   "source": [
    "filterx = filterUnusualX(4)"
   ]
  },
  {
   "cell_type": "code",
   "execution_count": 77,
   "metadata": {},
   "outputs": [
    {
     "data": {
      "text/plain": [
       "array([[-0.3932574 , -0.77980096, -1.54154624, ...,  1.11764159,\n",
       "         0.55648485, -0.96564541],\n",
       "       [ 1.48338099, -0.85586536, -1.85707906, ...,  1.59796051,\n",
       "         1.38068973, -1.0888833 ],\n",
       "       [-0.16319125, -0.32098801, -0.19034421, ..., -0.10727523,\n",
       "        -0.241836  , -0.48959873],\n",
       "       ...,\n",
       "       [-0.27627355,  0.48636987,  0.12639824, ..., -1.16220009,\n",
       "        -1.01538306,  0.81114535],\n",
       "       [-1.67003975, -0.52678051, -0.77806699, ...,  0.59975614,\n",
       "         1.24925754, -0.72598839],\n",
       "       [ 0.17435949, -0.47050422,  0.39029973, ...,  0.38290253,\n",
       "         0.24328705,  0.05378095]])"
      ]
     },
     "execution_count": 77,
     "metadata": {},
     "output_type": "execute_result"
    }
   ],
   "source": [
    "filterx.transform(X[:,0:10])"
   ]
  },
  {
   "cell_type": "code",
   "execution_count": 87,
   "metadata": {},
   "outputs": [],
   "source": [
    "transformer2 = ColumnTransformer([('filter', filterUnusualX(), list(range(0,129)))], remainder='passthrough')"
   ]
  },
  {
   "cell_type": "markdown",
   "metadata": {},
   "source": [
    "## Third transform to impute the filtered out high z-score x values"
   ]
  },
  {
   "cell_type": "code",
   "execution_count": 89,
   "metadata": {},
   "outputs": [],
   "source": [
    "transformer3 = ColumnTransformer([('impute', KNNImputer(), list(range(0,129)))], remainder='passthrough')"
   ]
  },
  {
   "cell_type": "markdown",
   "metadata": {},
   "source": [
    "## Pipelines"
   ]
  },
  {
   "cell_type": "code",
   "execution_count": 96,
   "metadata": {},
   "outputs": [],
   "source": [
    "pl = Pipeline(steps=[\n",
    "    ('scale_encode', transformer1),\n",
    "    ('filter', transformer2),\n",
    "    ('impute', transformer3),\n",
    "    ('model', SVR(C=2000))\n",
    "])\n",
    "\n",
    "pl2 = Pipeline(steps=[\n",
    "    ('scale_encode', transformer1),\n",
    "    ('filter', transformer2),\n",
    "    ('impute', KNNImputer()),\n",
    "    ('model', SVR(C=2000))\n",
    "])"
   ]
  },
  {
   "cell_type": "code",
   "execution_count": 93,
   "metadata": {},
   "outputs": [
    {
     "data": {
      "text/plain": [
       "Pipeline(steps=[('scale_encode',\n",
       "                 ColumnTransformer(transformers=[('num', PowerTransformer(),\n",
       "                                                  array(['sample_no', 's1_f1', 's1_f2', 's1_f3', 's1_f4', 's1_f5', 's1_f6',\n",
       "       's1_f7', 's1_f8', 's1_f9', 's1_f10', 's1_f11', 's1_f12', 's1_f13',\n",
       "       's1_f14', 's1_f15', 's1_f16', 's2_f1', 's2_f2', 's2_f3', 's2_f4',\n",
       "       's2_f5', 's2_f6', 's2_f7', 's2_f8', 's2_f9', 's2_f10', 's2_f11',\n",
       "       's2_f12', 's2_f13...\n",
       "                 ColumnTransformer(remainder='passthrough',\n",
       "                                   transformers=[('filter', filterUnusualX(),\n",
       "                                                  [0, 1, 2, 3, 4, 5, 6, 7, 8, 9,\n",
       "                                                   10, 11, 12, 13, 14, 15, 16,\n",
       "                                                   17, 18, 19, 20, 21, 22, 23,\n",
       "                                                   24, 25, 26, 27, 28, 29, ...])])),\n",
       "                ('impute',\n",
       "                 ColumnTransformer(remainder='passthrough',\n",
       "                                   transformers=[('impute', KNNImputer(),\n",
       "                                                  [0, 1, 2, 3, 4, 5, 6, 7, 8, 9,\n",
       "                                                   10, 11, 12, 13, 14, 15, 16,\n",
       "                                                   17, 18, 19, 20, 21, 22, 23,\n",
       "                                                   24, 25, 26, 27, 28, 29, ...])])),\n",
       "                ('model', SVR(C=2000))])"
      ]
     },
     "execution_count": 93,
     "metadata": {},
     "output_type": "execute_result"
    }
   ],
   "source": [
    "pl.fit(df, y)"
   ]
  },
  {
   "cell_type": "code",
   "execution_count": 94,
   "metadata": {},
   "outputs": [
    {
     "data": {
      "text/plain": [
       "0.9877625294412958"
      ]
     },
     "execution_count": 94,
     "metadata": {},
     "output_type": "execute_result"
    }
   ],
   "source": [
    "pl.score(df, y)"
   ]
  },
  {
   "cell_type": "code",
   "execution_count": 97,
   "metadata": {},
   "outputs": [
    {
     "data": {
      "text/plain": [
       "Pipeline(steps=[('scale_encode',\n",
       "                 ColumnTransformer(transformers=[('num', PowerTransformer(),\n",
       "                                                  array(['sample_no', 's1_f1', 's1_f2', 's1_f3', 's1_f4', 's1_f5', 's1_f6',\n",
       "       's1_f7', 's1_f8', 's1_f9', 's1_f10', 's1_f11', 's1_f12', 's1_f13',\n",
       "       's1_f14', 's1_f15', 's1_f16', 's2_f1', 's2_f2', 's2_f3', 's2_f4',\n",
       "       's2_f5', 's2_f6', 's2_f7', 's2_f8', 's2_f9', 's2_f10', 's2_f11',\n",
       "       's2_f12', 's2_f13...\n",
       "       's8_f5', 's8_f6', 's8_f7', 's8_f8', 's8_f9', 's8_f10', 's8_f11',\n",
       "       's8_f12', 's8_f13', 's8_f14', 's8_f15', 's8_f16'], dtype=object)),\n",
       "                                                 ('cat', OneHotEncoder(),\n",
       "                                                  array(['Gas_ID'], dtype=object))])),\n",
       "                ('filter',\n",
       "                 ColumnTransformer(remainder='passthrough',\n",
       "                                   transformers=[('filter', filterUnusualX(),\n",
       "                                                  [0, 1, 2, 3, 4, 5, 6, 7, 8, 9,\n",
       "                                                   10, 11, 12, 13, 14, 15, 16,\n",
       "                                                   17, 18, 19, 20, 21, 22, 23,\n",
       "                                                   24, 25, 26, 27, 28, 29, ...])])),\n",
       "                ('impute', KNNImputer()), ('model', SVR(C=2000))])"
      ]
     },
     "execution_count": 97,
     "metadata": {},
     "output_type": "execute_result"
    }
   ],
   "source": [
    "pl2.fit(df, y)"
   ]
  },
  {
   "cell_type": "code",
   "execution_count": 98,
   "metadata": {},
   "outputs": [
    {
     "data": {
      "text/plain": [
       "0.9877626884518934"
      ]
     },
     "execution_count": 98,
     "metadata": {},
     "output_type": "execute_result"
    }
   ],
   "source": [
    "pl2.score(df, y)"
   ]
  },
  {
   "cell_type": "code",
   "execution_count": null,
   "metadata": {},
   "outputs": [],
   "source": []
  }
 ],
 "metadata": {
  "kernelspec": {
   "display_name": "Python 3",
   "language": "python",
   "name": "python3"
  },
  "language_info": {
   "codemirror_mode": {
    "name": "ipython",
    "version": 3
   },
   "file_extension": ".py",
   "mimetype": "text/x-python",
   "name": "python",
   "nbconvert_exporter": "python",
   "pygments_lexer": "ipython3",
   "version": "3.8.5"
  }
 },
 "nbformat": 4,
 "nbformat_minor": 4
}
